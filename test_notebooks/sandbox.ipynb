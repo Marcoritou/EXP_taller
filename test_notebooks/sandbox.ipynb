{
 "cells": [
  {
   "cell_type": "code",
   "execution_count": 2,
   "id": "c9189a6c-9e53-41f0-8d56-b183abcbcea4",
   "metadata": {},
   "outputs": [],
   "source": [
    "import matplotlib.pyplot as plt\n",
    "import numpy as np"
   ]
  },
  {
   "cell_type": "code",
   "execution_count": 17,
   "id": "4e3c8126-6b5c-4e23-9fdf-fd2c1828e794",
   "metadata": {},
   "outputs": [
    {
     "name": "stdout",
     "output_type": "stream",
     "text": [
      "! Scaling:  R=2  M=1.325  alpha=1  beta=2  rcore=0.002  rtrunc=30  wtrunc=5\n",
      "! 1) = r   2) = rho   3) = M(r)   4) U(r) \n",
      "      4000\n",
      "  2.000000000000e-05  6.397999985488e+04  0.000000000000e+00 -7.857795430968e+00\n",
      "  2.005766198527e-05  6.395583820788e+04  1.859403076321e-11 -7.857795429635e+00\n"
     ]
    }
   ],
   "source": [
    "!head -n 5 ../EXP-examples/Nbody/SLGridSph.model"
   ]
  },
  {
   "cell_type": "code",
   "execution_count": 18,
   "id": "6ccd3ef0-d838-4784-b5f2-ed4dc32a0b9c",
   "metadata": {},
   "outputs": [
    {
     "data": {
      "text/plain": [
       "array([[ 2.00000000e-05,  6.39799999e+04,  0.00000000e+00,\n",
       "        -7.85779543e+00],\n",
       "       [ 2.00576620e-05,  6.39558382e+04,  1.85940308e-11,\n",
       "        -7.85779543e+00],\n",
       "       [ 2.01154902e-05,  6.39316251e+04,  3.73422592e-11,\n",
       "        -7.85779543e+00],\n",
       "       ...,\n",
       "       [ 1.98851729e+00,  2.69788829e-03,  1.32349346e+00,\n",
       "        -6.66323459e-01],\n",
       "       [ 1.99425038e+00,  2.62524507e-03,  1.32425384e+00,\n",
       "        -6.64409521e-01],\n",
       "       [ 2.00000000e+00,  2.55345976e-03,  1.32500000e+00,\n",
       "        -6.62500000e-01]])"
      ]
     },
     "execution_count": 18,
     "metadata": {},
     "output_type": "execute_result"
    }
   ],
   "source": [
    "modelo = np.genfromtxt('../EXP-examples/Nbody/SLGridSph.model',skip_header=3)\n",
    "modelo"
   ]
  },
  {
   "cell_type": "code",
   "execution_count": 36,
   "id": "7790e98e-2242-48aa-a0bf-b76ab2efbbcf",
   "metadata": {},
   "outputs": [
    {
     "data": {
      "image/png": "[encoded data removed]",
      "text/plain": [
       "<Figure size 432x288 with 1 Axes>"
      ]
     },
     "metadata": {
      "needs_background": "light"
     },
     "output_type": "display_data"
    }
   ],
   "source": [
    "plt.hist(modelo[:,0],bins=50,weights=modelo[:,2])\n",
    "plt.show()"
   ]
  },
  {
   "cell_type": "code",
   "execution_count": 46,
   "id": "016914c6-d17f-4b88-a6de-d6c57ca7eb51",
   "metadata": {},
   "outputs": [
    {
     "data": {
      "image/png": "[encoded data removed]",
      "text/plain": [
       "<Figure size 432x288 with 1 Axes>"
      ]
     },
     "metadata": {
      "needs_background": "light"
     },
     "output_type": "display_data"
    }
   ],
   "source": [
    "plt.hist(modelo[:,0],bins=50,range=(10**-0.5,2),weights=modelo[:,1])\n",
    "plt.show()"
   ]
  }
 ],
 "metadata": {
  "kernelspec": {
   "display_name": "Python 3 (ipykernel)",
   "language": "python",
   "name": "python3"
  },
  "language_info": {
   "codemirror_mode": {
    "name": "ipython",
    "version": 3
   },
   "file_extension": ".py",
   "mimetype": "text/x-python",
   "name": "python",
   "nbconvert_exporter": "python",
   "pygments_lexer": "ipython3",
   "version": "3.10.12"
  }
 },
 "nbformat": 4,
 "nbformat_minor": 5
}
