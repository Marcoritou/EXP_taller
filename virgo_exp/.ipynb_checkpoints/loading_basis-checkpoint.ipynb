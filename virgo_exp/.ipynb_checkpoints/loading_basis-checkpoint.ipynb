{
 "cells": [
  {
   "cell_type": "markdown",
   "id": "79f8888b-dd0e-4e07-9ede-3c1cbc0c9916",
   "metadata": {},
   "source": [
    "### Working with already created model and coefficients\n",
    "Cuando trabajamos con un modelo y coeficientes ya generados, es mas sencillo"
   ]
  },
  {
   "cell_type": "code",
   "execution_count": 1,
   "id": "e2e55442-bc92-43ea-b6d6-d47d9087f709",
   "metadata": {},
   "outputs": [
    {
     "ename": "SyntaxError",
     "evalue": "invalid syntax. Perhaps you forgot a comma? (visualize.py, line 106)",
     "output_type": "error",
     "traceback": [
      "Traceback \u001b[0;36m(most recent call last)\u001b[0m:\n",
      "  File \u001b[1;32m\"/usr/lib/python3/dist-packages/IPython/core/interactiveshell.py\"\u001b[0m, line \u001b[1;32m3457\u001b[0m, in \u001b[1;35mrun_code\u001b[0m\n    exec(code_obj, self.user_global_ns, self.user_ns)\n",
      "  File \u001b[1;32m\"/tmp/ipykernel_2532/1611413508.py\"\u001b[0m, line \u001b[1;32m2\u001b[0m, in \u001b[1;35m<module>\u001b[0m\n    import EXPtools\n",
      "  File \u001b[1;32m\"/home/mbugueno/.local/lib/python3.10/site-packages/EXPtools/__init__.py\"\u001b[0m, line \u001b[1;32m1\u001b[0m, in \u001b[1;35m<module>\u001b[0m\n    from . import visuals\n",
      "\u001b[0;36m  File \u001b[0;32m\"/home/mbugueno/.local/lib/python3.10/site-packages/EXPtools/visuals/__init__.py\"\u001b[0;36m, line \u001b[0;32m2\u001b[0;36m, in \u001b[0;35m<module>\u001b[0;36m\u001b[0m\n\u001b[0;31m    from .visualize import make_basis_plot\u001b[0m\n",
      "\u001b[0;36m  File \u001b[0;32m\"/home/mbugueno/.local/lib/python3.10/site-packages/EXPtools/visuals/visualize.py\"\u001b[0;36m, line \u001b[0;32m106\u001b[0m\n\u001b[0;31m    def spherical_avg_prop(basis, coefficients, time=0, property='dens' rmin=0, rmax=600, nbins=500, log_space=True, include_monopole=True):\u001b[0m\n\u001b[0m                                                                 ^\u001b[0m\n\u001b[0;31mSyntaxError\u001b[0m\u001b[0;31m:\u001b[0m invalid syntax. Perhaps you forgot a comma?\n"
     ]
    }
   ],
   "source": [
    "import pyEXP\n",
    "import EXPtools"
   ]
  },
  {
   "cell_type": "code",
   "execution_count": null,
   "id": "482cd88d-1659-445e-8963-924acde45a4c",
   "metadata": {},
   "outputs": [],
   "source": [
    "model = 'Hernquist'\n",
    "Hern_config = EXPtools.basis_builder.basis_utils.make_config('sphereSL',lmax=6,nmax=20,\n",
    "                                             modelname=f'{model}_model.txt',cachename=f'{model}_halo.cache',\n",
    "                                             numr=1000, rmin=1.5, rmax=300, scale=1)\n",
    "Hern_basis = pyEXP.basis.Basis.factory(Hern_config)\n",
    "Hern_coefs = pyEXP.coefs.Coefs.factory('Hernquist_halo.h5')"
   ]
  },
  {
   "cell_type": "code",
   "execution_count": null,
   "id": "f1a90421-9b99-419c-84e9-eae129de9881",
   "metadata": {},
   "outputs": [],
   "source": [
    "model = 'NFW'\n",
    "NFW_config = EXPtools.basis_builder.basis_utils.make_config('sphereSL',lmax=6,nmax=20,\n",
    "                                             modelname=f'{model}_model.txt',cachename=f'{model}_halo.cache',\n",
    "                                             numr=1000, rmin=1.5, rmax=300, scale=1)\n",
    "NFW_basis = pyEXP.basis.Basis.factory(NFW_config)\n",
    "NFW_coefs = pyEXP.coefs.Coefs.factory('NFW_halo.h5')"
   ]
  },
  {
   "cell_type": "code",
   "execution_count": null,
   "id": "466a9b7b-10f8-4825-940e-4a305049dc1e",
   "metadata": {},
   "outputs": [],
   "source": [
    "import matplotlib.pyplot as plt\n",
    "\n",
    "fig, ax = plt.subplots(1,2,figsize=(8,4))\n",
    "\n",
    "ax[0].imshow(Hern_basis.orthoCheck()[0])\n",
    "ax[1].imshow(NFW_basis.orthoCheck()[0])\n",
    "ax[0].set_title('Hernquist')\n",
    "ax[1].set_title('NFW')\n",
    "\n",
    "fig.suptitle('Orthogonal tests')"
   ]
  },
  {
   "cell_type": "code",
   "execution_count": 5,
   "id": "2a4bffb4-3621-4d0b-885c-461223840030",
   "metadata": {},
   "outputs": [
    {
     "name": "stderr",
     "output_type": "stream",
     "text": [
      "/home/mbugueno/.local/lib/python3.10/site-packages/numpy/core/function_base.py:298: RuntimeWarning: overflow encountered in power\n",
      "  return _nx.power(base, y)\n"
     ]
    },
    {
     "ename": "ValueError",
     "evalue": "Invalid property specified. Possible values are 'dens', 'pot', and 'force'.",
     "output_type": "error",
     "traceback": [
      "\u001b[0;31m---------------------------------------------------------------------------\u001b[0m",
      "\u001b[0;31mValueError\u001b[0m                                Traceback (most recent call last)",
      "\u001b[0;32m/tmp/ipykernel_2410/315118831.py\u001b[0m in \u001b[0;36m<module>\u001b[0;34m\u001b[0m\n\u001b[0;32m----> 1\u001b[0;31m \u001b[0mEXPtools\u001b[0m\u001b[0;34m.\u001b[0m\u001b[0mvisuals\u001b[0m\u001b[0;34m.\u001b[0m\u001b[0mvisualize\u001b[0m\u001b[0;34m.\u001b[0m\u001b[0mspherical_avg_prop\u001b[0m\u001b[0;34m(\u001b[0m\u001b[0mNFW_basis\u001b[0m\u001b[0;34m,\u001b[0m\u001b[0mNFW_coefs\u001b[0m\u001b[0;34m)\u001b[0m\u001b[0;34m\u001b[0m\u001b[0;34m\u001b[0m\u001b[0m\n\u001b[0m",
      "\u001b[0;32m~/.local/lib/python3.10/site-packages/EXPtools/visuals/visualize.py\u001b[0m in \u001b[0;36mspherical_avg_prop\u001b[0;34m(basis, coefficients, time, rmin, rmax, nbins, log_space, include_monopole)\u001b[0m\n\u001b[1;32m    136\u001b[0m     \u001b[0;32melse\u001b[0m\u001b[0;34m:\u001b[0m\u001b[0;34m\u001b[0m\u001b[0;34m\u001b[0m\u001b[0m\n\u001b[1;32m    137\u001b[0m         \u001b[0mrad_arr\u001b[0m \u001b[0;34m=\u001b[0m \u001b[0mnp\u001b[0m\u001b[0;34m.\u001b[0m\u001b[0mlinspace\u001b[0m\u001b[0;34m(\u001b[0m\u001b[0mrmin\u001b[0m\u001b[0;34m,\u001b[0m \u001b[0mrmax\u001b[0m\u001b[0;34m,\u001b[0m \u001b[0mnbins\u001b[0m\u001b[0;34m)\u001b[0m\u001b[0;34m\u001b[0m\u001b[0;34m\u001b[0m\u001b[0m\n\u001b[0;32m--> 138\u001b[0;31m     \u001b[0mfield\u001b[0m \u001b[0;34m=\u001b[0m \u001b[0;34m[\u001b[0m\u001b[0mfind_field\u001b[0m\u001b[0;34m(\u001b[0m\u001b[0mbasis\u001b[0m\u001b[0;34m,\u001b[0m \u001b[0mcoefficients\u001b[0m\u001b[0;34m,\u001b[0m \u001b[0mtime\u001b[0m\u001b[0;34m=\u001b[0m\u001b[0mtime\u001b[0m\u001b[0;34m,\u001b[0m \u001b[0mxyz\u001b[0m\u001b[0;34m=\u001b[0m\u001b[0;34m(\u001b[0m\u001b[0mrad\u001b[0m\u001b[0;34m,\u001b[0m \u001b[0;36m0\u001b[0m\u001b[0;34m,\u001b[0m \u001b[0;36m0\u001b[0m\u001b[0;34m)\u001b[0m\u001b[0;34m,\u001b[0m \u001b[0mproperty\u001b[0m\u001b[0;34m=\u001b[0m\u001b[0mproperty\u001b[0m\u001b[0;34m,\u001b[0m \u001b[0minclude_monopole\u001b[0m\u001b[0;34m=\u001b[0m\u001b[0minclude_monopole\u001b[0m\u001b[0;34m)\u001b[0m \u001b[0;32mfor\u001b[0m \u001b[0mrad\u001b[0m \u001b[0;32min\u001b[0m \u001b[0mrad_arr\u001b[0m\u001b[0;34m]\u001b[0m\u001b[0;34m\u001b[0m\u001b[0;34m\u001b[0m\u001b[0m\n\u001b[0m\u001b[1;32m    139\u001b[0m     \u001b[0;32mreturn\u001b[0m \u001b[0mrad_arr\u001b[0m\u001b[0;34m,\u001b[0m \u001b[0mfield\u001b[0m\u001b[0;34m\u001b[0m\u001b[0;34m\u001b[0m\u001b[0m\n\u001b[1;32m    140\u001b[0m \u001b[0;34m\u001b[0m\u001b[0m\n",
      "\u001b[0;32m~/.local/lib/python3.10/site-packages/EXPtools/visuals/visualize.py\u001b[0m in \u001b[0;36m<listcomp>\u001b[0;34m(.0)\u001b[0m\n\u001b[1;32m    136\u001b[0m     \u001b[0;32melse\u001b[0m\u001b[0;34m:\u001b[0m\u001b[0;34m\u001b[0m\u001b[0;34m\u001b[0m\u001b[0m\n\u001b[1;32m    137\u001b[0m         \u001b[0mrad_arr\u001b[0m \u001b[0;34m=\u001b[0m \u001b[0mnp\u001b[0m\u001b[0;34m.\u001b[0m\u001b[0mlinspace\u001b[0m\u001b[0;34m(\u001b[0m\u001b[0mrmin\u001b[0m\u001b[0;34m,\u001b[0m \u001b[0mrmax\u001b[0m\u001b[0;34m,\u001b[0m \u001b[0mnbins\u001b[0m\u001b[0;34m)\u001b[0m\u001b[0;34m\u001b[0m\u001b[0;34m\u001b[0m\u001b[0m\n\u001b[0;32m--> 138\u001b[0;31m     \u001b[0mfield\u001b[0m \u001b[0;34m=\u001b[0m \u001b[0;34m[\u001b[0m\u001b[0mfind_field\u001b[0m\u001b[0;34m(\u001b[0m\u001b[0mbasis\u001b[0m\u001b[0;34m,\u001b[0m \u001b[0mcoefficients\u001b[0m\u001b[0;34m,\u001b[0m \u001b[0mtime\u001b[0m\u001b[0;34m=\u001b[0m\u001b[0mtime\u001b[0m\u001b[0;34m,\u001b[0m \u001b[0mxyz\u001b[0m\u001b[0;34m=\u001b[0m\u001b[0;34m(\u001b[0m\u001b[0mrad\u001b[0m\u001b[0;34m,\u001b[0m \u001b[0;36m0\u001b[0m\u001b[0;34m,\u001b[0m \u001b[0;36m0\u001b[0m\u001b[0;34m)\u001b[0m\u001b[0;34m,\u001b[0m \u001b[0mproperty\u001b[0m\u001b[0;34m=\u001b[0m\u001b[0mproperty\u001b[0m\u001b[0;34m,\u001b[0m \u001b[0minclude_monopole\u001b[0m\u001b[0;34m=\u001b[0m\u001b[0minclude_monopole\u001b[0m\u001b[0;34m)\u001b[0m \u001b[0;32mfor\u001b[0m \u001b[0mrad\u001b[0m \u001b[0;32min\u001b[0m \u001b[0mrad_arr\u001b[0m\u001b[0;34m]\u001b[0m\u001b[0;34m\u001b[0m\u001b[0;34m\u001b[0m\u001b[0m\n\u001b[0m\u001b[1;32m    139\u001b[0m     \u001b[0;32mreturn\u001b[0m \u001b[0mrad_arr\u001b[0m\u001b[0;34m,\u001b[0m \u001b[0mfield\u001b[0m\u001b[0;34m\u001b[0m\u001b[0;34m\u001b[0m\u001b[0m\n\u001b[1;32m    140\u001b[0m \u001b[0;34m\u001b[0m\u001b[0m\n",
      "\u001b[0;32m~/.local/lib/python3.10/site-packages/EXPtools/visuals/visualize.py\u001b[0m in \u001b[0;36mfind_field\u001b[0;34m(basis, coefficients, time, xyz, property, include_monopole)\u001b[0m\n\u001b[1;32m    102\u001b[0m \u001b[0;34m\u001b[0m\u001b[0m\n\u001b[1;32m    103\u001b[0m     \u001b[0;32melse\u001b[0m\u001b[0;34m:\u001b[0m\u001b[0;34m\u001b[0m\u001b[0;34m\u001b[0m\u001b[0m\n\u001b[0;32m--> 104\u001b[0;31m         \u001b[0;32mraise\u001b[0m \u001b[0mValueError\u001b[0m\u001b[0;34m(\u001b[0m\u001b[0;34m\"Invalid property specified. Possible values are 'dens', 'pot', and 'force'.\"\u001b[0m\u001b[0;34m)\u001b[0m\u001b[0;34m\u001b[0m\u001b[0;34m\u001b[0m\u001b[0m\n\u001b[0m\u001b[1;32m    105\u001b[0m \u001b[0;34m\u001b[0m\u001b[0m\n\u001b[1;32m    106\u001b[0m \u001b[0;32mdef\u001b[0m \u001b[0mspherical_avg_prop\u001b[0m\u001b[0;34m(\u001b[0m\u001b[0mbasis\u001b[0m\u001b[0;34m,\u001b[0m \u001b[0mcoefficients\u001b[0m\u001b[0;34m,\u001b[0m \u001b[0mtime\u001b[0m\u001b[0;34m=\u001b[0m\u001b[0;36m0\u001b[0m\u001b[0;34m,\u001b[0m \u001b[0mrmin\u001b[0m\u001b[0;34m=\u001b[0m\u001b[0;36m0\u001b[0m\u001b[0;34m,\u001b[0m \u001b[0mrmax\u001b[0m\u001b[0;34m=\u001b[0m\u001b[0;36m600\u001b[0m\u001b[0;34m,\u001b[0m \u001b[0mnbins\u001b[0m\u001b[0;34m=\u001b[0m\u001b[0;36m500\u001b[0m\u001b[0;34m,\u001b[0m \u001b[0mlog_space\u001b[0m\u001b[0;34m=\u001b[0m\u001b[0;32mTrue\u001b[0m\u001b[0;34m,\u001b[0m \u001b[0minclude_monopole\u001b[0m\u001b[0;34m=\u001b[0m\u001b[0;32mTrue\u001b[0m\u001b[0;34m)\u001b[0m\u001b[0;34m:\u001b[0m\u001b[0;34m\u001b[0m\u001b[0;34m\u001b[0m\u001b[0m\n",
      "\u001b[0;31mValueError\u001b[0m: Invalid property specified. Possible values are 'dens', 'pot', and 'force'."
     ]
    }
   ],
   "source": [
    "EXPtools.visuals.visualize.spherical_avg_prop(NFW_basis,NFW_coefs)"
   ]
  },
  {
   "cell_type": "code",
   "execution_count": 54,
   "id": "6c343229-4a80-44ac-8b23-f07abe132c80",
   "metadata": {},
   "outputs": [],
   "source": [
    "import numpy as np\n",
    "rad_arr = np.linspace(1,300,1000)\n",
    "field = [EXPtools.visuals.find_field(NFW_basis,NFW_coefs,time=0,xyz=(rad,0,0), property='dens', include_monopole=False) for rad in rad_arr]"
   ]
  },
  {
   "cell_type": "code",
   "execution_count": 55,
   "id": "666d255d-c171-4c03-94d8-062da934cd08",
   "metadata": {},
   "outputs": [
    {
     "data": {
      "image/png": "[encoded data removed]",
      "text/plain": [
       "<Figure size 432x288 with 1 Axes>"
      ]
     },
     "metadata": {
      "needs_background": "light"
     },
     "output_type": "display_data"
    }
   ],
   "source": [
    "plt.plot(rad_arr,field)\n",
    "plt.xscale('log')\n",
    "plt.yscale('log')"
   ]
  },
  {
   "cell_type": "code",
   "execution_count": null,
   "id": "a9440892-6085-4234-817c-0e4613d916fb",
   "metadata": {},
   "outputs": [],
   "source": [
    "def spherical_avg_prop(bais, coefficients, time=0, rmin=0, rmax=600, nbins=500, log_space=True):\n",
    "    if log_space is True:\n",
    "        rad_arr = np.logspace(rmin, rmax, nbins)\n",
    "    else:\n",
    "        rad_arr = np.linspace(rmin, rmax, nbins)\n",
    "    field = [find_field(NFW_basis,NFW_coefs, time=time, xyz=(rad,0,0), property=property, include_monopole=include_monopole) for rad in rad_arr]\n",
    "    return rad_arr,field"
   ]
  },
  {
   "cell_type": "code",
   "execution_count": null,
   "id": "d22b6542-d55b-42b8-ac3b-e70673839b60",
   "metadata": {},
   "outputs": [],
   "source": []
  }
 ],
 "metadata": {
  "kernelspec": {
   "display_name": "Python 3 (ipykernel)",
   "language": "python",
   "name": "python3"
  },
  "language_info": {
   "codemirror_mode": {
    "name": "ipython",
    "version": 3
   },
   "file_extension": ".py",
   "mimetype": "text/x-python",
   "name": "python",
   "nbconvert_exporter": "python",
   "pygments_lexer": "ipython3",
   "version": "3.10.12"
  }
 },
 "nbformat": 4,
 "nbformat_minor": 5
}
