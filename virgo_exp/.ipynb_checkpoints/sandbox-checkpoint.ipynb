{
 "cells": [
  {
   "cell_type": "code",
   "execution_count": 7,
   "id": "d6feef43-12a3-407c-8e3e-06ca6fed69f1",
   "metadata": {},
   "outputs": [
    {
     "data": {
      "text/plain": [
       "(10, 9, array([ 0,  1,  1,  2,  3,  5,  8, 13, 21]))"
      ]
     },
     "execution_count": 7,
     "metadata": {},
     "output_type": "execute_result"
    }
   ],
   "source": [
    "import numpy as np\n",
    "\n",
    "bins = np.array([1,1,2,3,5,8,13,21,34,55])\n",
    "diff = (bins[1:] - bins[:-1])\n",
    "len(bins),len(diff),diff"
   ]
  }
 ],
 "metadata": {
  "kernelspec": {
   "display_name": "Python 3 (ipykernel)",
   "language": "python",
   "name": "python3"
  },
  "language_info": {
   "codemirror_mode": {
    "name": "ipython",
    "version": 3
   },
   "file_extension": ".py",
   "mimetype": "text/x-python",
   "name": "python",
   "nbconvert_exporter": "python",
   "pygments_lexer": "ipython3",
   "version": "3.10.12"
  }
 },
 "nbformat": 4,
 "nbformat_minor": 5
}
