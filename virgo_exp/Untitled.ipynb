{
 "cells": [
  {
   "cell_type": "markdown",
   "id": "79f8888b-dd0e-4e07-9ede-3c1cbc0c9916",
   "metadata": {},
   "source": [
    "### Working with already created model and coefficients\n",
    "Cuando trabajamos con un modelo y coeficientes ya generados, es mas sencillo"
   ]
  },
  {
   "cell_type": "code",
   "execution_count": 2,
   "id": "e2e55442-bc92-43ea-b6d6-d47d9087f709",
   "metadata": {},
   "outputs": [],
   "source": [
    "import pyEXP\n",
    "import EXPtools"
   ]
  },
  {
   "cell_type": "code",
   "execution_count": 3,
   "id": "482cd88d-1659-445e-8963-924acde45a4c",
   "metadata": {},
   "outputs": [
    {
     "name": "stdout",
     "output_type": "stream",
     "text": [
      "---- SLGridSph::ReadH5Cache: successfully read basis cache <Hernquist_halo.cache>\n",
      "SphericalSL::orthoTest: worst=0.00102657\n"
     ]
    }
   ],
   "source": [
    "model = 'Hernquist'\n",
    "Hern_config = EXPtools.basis_builder.basis_utils.make_config('sphereSL',lmax=6,nmax=20,\n",
    "                                             modelname=f'{model}_model.txt',cachename=f'{model}_halo.cache',\n",
    "                                             numr=1000, rmin=1.5, rmax=300, scale=1)\n",
    "Hern_basis = pyEXP.basis.Basis.factory(Hern_config)\n",
    "Hern_coefs = pyEXP.coefs.Coefs.factory('Hernquist_halo.h5')"
   ]
  },
  {
   "cell_type": "code",
   "execution_count": 4,
   "id": "f1a90421-9b99-419c-84e9-eae129de9881",
   "metadata": {},
   "outputs": [
    {
     "name": "stdout",
     "output_type": "stream",
     "text": [
      "---- SLGridSph::ReadH5Cache: successfully read basis cache <NFW_halo.cache>\n",
      "SphericalSL::orthoTest: worst=0.0164042\n"
     ]
    }
   ],
   "source": [
    "model = 'NFW'\n",
    "NFW_config = EXPtools.basis_builder.basis_utils.make_config('sphereSL',lmax=6,nmax=20,\n",
    "                                             modelname=f'{model}_model.txt',cachename=f'{model}_halo.cache',\n",
    "                                             numr=1000, rmin=1.5, rmax=300, scale=1)\n",
    "NFW_basis = pyEXP.basis.Basis.factory(NFW_config)\n",
    "NFW_coefs = pyEXP.coefs.Coefs.factory('NFW_halo.h5')"
   ]
  },
  {
   "cell_type": "code",
   "execution_count": 5,
   "id": "466a9b7b-10f8-4825-940e-4a305049dc1e",
   "metadata": {},
   "outputs": [
    {
     "data": {
      "text/plain": [
       "Text(0.5, 0.98, 'Orthogonal tests')"
      ]
     },
     "execution_count": 5,
     "metadata": {},
     "output_type": "execute_result"
    },
    {
     "data": {
      "image/png": "[encoded data removed]",
      "text/plain": [
       "<Figure size 576x288 with 2 Axes>"
      ]
     },
     "metadata": {
      "needs_background": "light"
     },
     "output_type": "display_data"
    }
   ],
   "source": [
    "import matplotlib.pyplot as plt\n",
    "\n",
    "fig, ax = plt.subplots(1,2,figsize=(8,4))\n",
    "\n",
    "ax[0].imshow(Hern_basis.orthoCheck()[0])\n",
    "ax[1].imshow(NFW_basis.orthoCheck()[0])\n",
    "ax[0].set_title('Hernquist')\n",
    "ax[1].set_title('NFW')\n",
    "\n",
    "fig.suptitle('Orthogonal tests')"
   ]
  },
  {
   "cell_type": "code",
   "execution_count": 6,
   "id": "6c343229-4a80-44ac-8b23-f07abe132c80",
   "metadata": {},
   "outputs": [
    {
     "ename": "TypeError",
     "evalue": "set_coefs(): incompatible function arguments. The following argument types are supported:\n    1. (self: pyEXP.basis.BiorthBasis, coefs: pyEXP.coefs.CoefStruct) -> None\n\nInvoked with: <pyEXP.basis.SphericalSL object at 0x7fab71fcd870>, array([0.1, 0. , 0. ])",
     "output_type": "error",
     "traceback": [
      "\u001b[0;31m---------------------------------------------------------------------------\u001b[0m",
      "\u001b[0;31mAttributeError\u001b[0m                            Traceback (most recent call last)",
      "\u001b[0;32m~/.local/lib/python3.10/site-packages/EXPtools/visuals/visualize.py\u001b[0m in \u001b[0;36mfind_field\u001b[0;34m(basis, coefficients, time, xyz, property, include_monopole)\u001b[0m\n\u001b[1;32m     84\u001b[0m     \u001b[0;32mtry\u001b[0m\u001b[0;34m:\u001b[0m\u001b[0;34m\u001b[0m\u001b[0;34m\u001b[0m\u001b[0m\n\u001b[0;32m---> 85\u001b[0;31m         \u001b[0mbasis\u001b[0m\u001b[0;34m.\u001b[0m\u001b[0mset_coefs\u001b[0m\u001b[0;34m(\u001b[0m\u001b[0mcoefficients\u001b[0m\u001b[0;34m.\u001b[0m\u001b[0mgetCoefStruct\u001b[0m\u001b[0;34m(\u001b[0m\u001b[0mtime\u001b[0m\u001b[0;34m)\u001b[0m\u001b[0;34m)\u001b[0m\u001b[0;34m\u001b[0m\u001b[0;34m\u001b[0m\u001b[0m\n\u001b[0m\u001b[1;32m     86\u001b[0m     \u001b[0;32mexcept\u001b[0m \u001b[0mAttributeError\u001b[0m\u001b[0;34m:\u001b[0m\u001b[0;34m\u001b[0m\u001b[0;34m\u001b[0m\u001b[0m\n",
      "\u001b[0;31mAttributeError\u001b[0m: 'numpy.ndarray' object has no attribute 'getCoefStruct'",
      "\nDuring handling of the above exception, another exception occurred:\n",
      "\u001b[0;31mTypeError\u001b[0m                                 Traceback (most recent call last)",
      "\u001b[0;32m/tmp/ipykernel_1558/822931775.py\u001b[0m in \u001b[0;36m<module>\u001b[0;34m\u001b[0m\n\u001b[0;32m----> 1\u001b[0;31m \u001b[0mEXPtools\u001b[0m\u001b[0;34m.\u001b[0m\u001b[0mvisuals\u001b[0m\u001b[0;34m.\u001b[0m\u001b[0mvisualize\u001b[0m\u001b[0;34m.\u001b[0m\u001b[0mspherical_avg_prop\u001b[0m\u001b[0;34m(\u001b[0m\u001b[0mNFW_basis\u001b[0m\u001b[0;34m,\u001b[0m\u001b[0mNFW_coefs\u001b[0m\u001b[0;34m,\u001b[0m\u001b[0mproperty\u001b[0m\u001b[0;34m=\u001b[0m\u001b[0;34m'dens'\u001b[0m\u001b[0;34m)\u001b[0m\u001b[0;34m\u001b[0m\u001b[0;34m\u001b[0m\u001b[0m\n\u001b[0m",
      "\u001b[0;32m~/.local/lib/python3.10/site-packages/EXPtools/visuals/visualize.py\u001b[0m in \u001b[0;36mspherical_avg_prop\u001b[0;34m(basis, coefficients, time, radius, property)\u001b[0m\n\u001b[1;32m    136\u001b[0m     \u001b[0;32mexcept\u001b[0m \u001b[0mAttributeError\u001b[0m\u001b[0;34m:\u001b[0m\u001b[0;34m\u001b[0m\u001b[0;34m\u001b[0m\u001b[0m\n\u001b[1;32m    137\u001b[0m         \u001b[0mbasis\u001b[0m\u001b[0;34m.\u001b[0m\u001b[0mset_coefs\u001b[0m\u001b[0;34m(\u001b[0m\u001b[0mcoefficients\u001b[0m\u001b[0;34m)\u001b[0m\u001b[0;34m\u001b[0m\u001b[0;34m\u001b[0m\u001b[0m\n\u001b[0;32m--> 138\u001b[0;31m     \u001b[0mfield\u001b[0m \u001b[0;34m=\u001b[0m \u001b[0;34m[\u001b[0m\u001b[0mfind_field\u001b[0m\u001b[0;34m(\u001b[0m\u001b[0mbasis\u001b[0m\u001b[0;34m,\u001b[0m \u001b[0mnp\u001b[0m\u001b[0;34m.\u001b[0m\u001b[0mhstack\u001b[0m\u001b[0;34m(\u001b[0m\u001b[0;34m[\u001b[0m\u001b[0;34m[\u001b[0m\u001b[0mrad\u001b[0m\u001b[0;34m]\u001b[0m\u001b[0;34m,\u001b[0m \u001b[0;34m[\u001b[0m\u001b[0;36m0\u001b[0m\u001b[0;34m]\u001b[0m\u001b[0;34m,\u001b[0m \u001b[0;34m[\u001b[0m\u001b[0;36m0\u001b[0m\u001b[0;34m]\u001b[0m\u001b[0;34m]\u001b[0m\u001b[0;34m)\u001b[0m\u001b[0;34m,\u001b[0m \u001b[0mproperty\u001b[0m\u001b[0;34m=\u001b[0m\u001b[0mproperty\u001b[0m\u001b[0;34m,\u001b[0m \u001b[0minclude_monopole\u001b[0m\u001b[0;34m=\u001b[0m\u001b[0;32mTrue\u001b[0m\u001b[0;34m)\u001b[0m \u001b[0;32mfor\u001b[0m \u001b[0mrad\u001b[0m \u001b[0;32min\u001b[0m \u001b[0mradius\u001b[0m\u001b[0;34m]\u001b[0m\u001b[0;34m\u001b[0m\u001b[0;34m\u001b[0m\u001b[0m\n\u001b[0m\u001b[1;32m    139\u001b[0m \u001b[0;34m\u001b[0m\u001b[0m\n\u001b[1;32m    140\u001b[0m     \u001b[0;32mif\u001b[0m \u001b[0mproperty\u001b[0m \u001b[0;34m==\u001b[0m \u001b[0;34m'force'\u001b[0m\u001b[0;34m:\u001b[0m\u001b[0;34m\u001b[0m\u001b[0;34m\u001b[0m\u001b[0m\n",
      "\u001b[0;32m~/.local/lib/python3.10/site-packages/EXPtools/visuals/visualize.py\u001b[0m in \u001b[0;36m<listcomp>\u001b[0;34m(.0)\u001b[0m\n\u001b[1;32m    136\u001b[0m     \u001b[0;32mexcept\u001b[0m \u001b[0mAttributeError\u001b[0m\u001b[0;34m:\u001b[0m\u001b[0;34m\u001b[0m\u001b[0;34m\u001b[0m\u001b[0m\n\u001b[1;32m    137\u001b[0m         \u001b[0mbasis\u001b[0m\u001b[0;34m.\u001b[0m\u001b[0mset_coefs\u001b[0m\u001b[0;34m(\u001b[0m\u001b[0mcoefficients\u001b[0m\u001b[0;34m)\u001b[0m\u001b[0;34m\u001b[0m\u001b[0;34m\u001b[0m\u001b[0m\n\u001b[0;32m--> 138\u001b[0;31m     \u001b[0mfield\u001b[0m \u001b[0;34m=\u001b[0m \u001b[0;34m[\u001b[0m\u001b[0mfind_field\u001b[0m\u001b[0;34m(\u001b[0m\u001b[0mbasis\u001b[0m\u001b[0;34m,\u001b[0m \u001b[0mnp\u001b[0m\u001b[0;34m.\u001b[0m\u001b[0mhstack\u001b[0m\u001b[0;34m(\u001b[0m\u001b[0;34m[\u001b[0m\u001b[0;34m[\u001b[0m\u001b[0mrad\u001b[0m\u001b[0;34m]\u001b[0m\u001b[0;34m,\u001b[0m \u001b[0;34m[\u001b[0m\u001b[0;36m0\u001b[0m\u001b[0;34m]\u001b[0m\u001b[0;34m,\u001b[0m \u001b[0;34m[\u001b[0m\u001b[0;36m0\u001b[0m\u001b[0;34m]\u001b[0m\u001b[0;34m]\u001b[0m\u001b[0;34m)\u001b[0m\u001b[0;34m,\u001b[0m \u001b[0mproperty\u001b[0m\u001b[0;34m=\u001b[0m\u001b[0mproperty\u001b[0m\u001b[0;34m,\u001b[0m \u001b[0minclude_monopole\u001b[0m\u001b[0;34m=\u001b[0m\u001b[0;32mTrue\u001b[0m\u001b[0;34m)\u001b[0m \u001b[0;32mfor\u001b[0m \u001b[0mrad\u001b[0m \u001b[0;32min\u001b[0m \u001b[0mradius\u001b[0m\u001b[0;34m]\u001b[0m\u001b[0;34m\u001b[0m\u001b[0;34m\u001b[0m\u001b[0m\n\u001b[0m\u001b[1;32m    139\u001b[0m \u001b[0;34m\u001b[0m\u001b[0m\n\u001b[1;32m    140\u001b[0m     \u001b[0;32mif\u001b[0m \u001b[0mproperty\u001b[0m \u001b[0;34m==\u001b[0m \u001b[0;34m'force'\u001b[0m\u001b[0;34m:\u001b[0m\u001b[0;34m\u001b[0m\u001b[0;34m\u001b[0m\u001b[0m\n",
      "\u001b[0;32m~/.local/lib/python3.10/site-packages/EXPtools/visuals/visualize.py\u001b[0m in \u001b[0;36mfind_field\u001b[0;34m(basis, coefficients, time, xyz, property, include_monopole)\u001b[0m\n\u001b[1;32m     85\u001b[0m         \u001b[0mbasis\u001b[0m\u001b[0;34m.\u001b[0m\u001b[0mset_coefs\u001b[0m\u001b[0;34m(\u001b[0m\u001b[0mcoefficients\u001b[0m\u001b[0;34m.\u001b[0m\u001b[0mgetCoefStruct\u001b[0m\u001b[0;34m(\u001b[0m\u001b[0mtime\u001b[0m\u001b[0;34m)\u001b[0m\u001b[0;34m)\u001b[0m\u001b[0;34m\u001b[0m\u001b[0;34m\u001b[0m\u001b[0m\n\u001b[1;32m     86\u001b[0m     \u001b[0;32mexcept\u001b[0m \u001b[0mAttributeError\u001b[0m\u001b[0;34m:\u001b[0m\u001b[0;34m\u001b[0m\u001b[0;34m\u001b[0m\u001b[0m\n\u001b[0;32m---> 87\u001b[0;31m         \u001b[0mbasis\u001b[0m\u001b[0;34m.\u001b[0m\u001b[0mset_coefs\u001b[0m\u001b[0;34m(\u001b[0m\u001b[0mcoefficients\u001b[0m\u001b[0;34m)\u001b[0m\u001b[0;34m\u001b[0m\u001b[0;34m\u001b[0m\u001b[0m\n\u001b[0m\u001b[1;32m     88\u001b[0m     \u001b[0mdens0\u001b[0m\u001b[0;34m,\u001b[0m \u001b[0mpot0\u001b[0m\u001b[0;34m,\u001b[0m \u001b[0mdens\u001b[0m\u001b[0;34m,\u001b[0m \u001b[0mpot\u001b[0m\u001b[0;34m,\u001b[0m \u001b[0mfx\u001b[0m\u001b[0;34m,\u001b[0m \u001b[0mfy\u001b[0m\u001b[0;34m,\u001b[0m \u001b[0mfz\u001b[0m \u001b[0;34m=\u001b[0m \u001b[0mbasis\u001b[0m\u001b[0;34m.\u001b[0m\u001b[0mgetFields\u001b[0m\u001b[0;34m(\u001b[0m\u001b[0mxyz\u001b[0m\u001b[0;34m[\u001b[0m\u001b[0;36m0\u001b[0m\u001b[0;34m]\u001b[0m\u001b[0;34m,\u001b[0m \u001b[0mxyz\u001b[0m\u001b[0;34m[\u001b[0m\u001b[0;36m1\u001b[0m\u001b[0;34m]\u001b[0m\u001b[0;34m,\u001b[0m \u001b[0mxyz\u001b[0m\u001b[0;34m[\u001b[0m\u001b[0;36m2\u001b[0m\u001b[0;34m]\u001b[0m\u001b[0;34m)\u001b[0m\u001b[0;34m\u001b[0m\u001b[0;34m\u001b[0m\u001b[0m\n\u001b[1;32m     89\u001b[0m \u001b[0;34m\u001b[0m\u001b[0m\n",
      "\u001b[0;31mTypeError\u001b[0m: set_coefs(): incompatible function arguments. The following argument types are supported:\n    1. (self: pyEXP.basis.BiorthBasis, coefs: pyEXP.coefs.CoefStruct) -> None\n\nInvoked with: <pyEXP.basis.SphericalSL object at 0x7fab71fcd870>, array([0.1, 0. , 0. ])"
     ]
    }
   ],
   "source": [
    "EXPtools.visuals.visualize.spherical_avg_prop(NFW_basis,NFW_coefs,property='dens')"
   ]
  },
  {
   "cell_type": "code",
   "execution_count": null,
   "id": "36b2499a-02e0-4e3d-bad2-71d2c7ce6bcc",
   "metadata": {},
   "outputs": [],
   "source": []
  }
 ],
 "metadata": {
  "kernelspec": {
   "display_name": "Python 3 (ipykernel)",
   "language": "python",
   "name": "python3"
  },
  "language_info": {
   "codemirror_mode": {
    "name": "ipython",
    "version": 3
   },
   "file_extension": ".py",
   "mimetype": "text/x-python",
   "name": "python",
   "nbconvert_exporter": "python",
   "pygments_lexer": "ipython3",
   "version": "3.10.12"
  }
 },
 "nbformat": 4,
 "nbformat_minor": 5
}
